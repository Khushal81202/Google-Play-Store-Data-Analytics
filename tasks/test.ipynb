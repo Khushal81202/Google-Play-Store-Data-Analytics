{
 "cells": [
  {
   "cell_type": "code",
   "execution_count": 1,
   "metadata": {},
   "outputs": [
    {
     "name": "stdout",
     "output_type": "stream",
     "text": [
      "✅ Cleaned dataset saved as 'cleaned_data.csv'!\n",
      "Final dataset shape: (9366, 13)\n",
      "                                                 App        Category  Rating  \\\n",
      "0     Photo Editor & Candy Camera & Grid & ScrapBook  ART_AND_DESIGN     4.1   \n",
      "1                                Coloring book moana  ART_AND_DESIGN     3.9   \n",
      "2  U Launcher Lite – FREE Live Cool Themes, Hide ...  ART_AND_DESIGN     4.7   \n",
      "3                              Sketch - Draw & Paint  ART_AND_DESIGN     4.5   \n",
      "4              Pixel Draw - Number Art Coloring Book  ART_AND_DESIGN     4.3   \n",
      "\n",
      "    Reviews  Size  Installs  Type  Price Content Rating  \\\n",
      "0     159.0  19.0     10000  Free    0.0       Everyone   \n",
      "1     967.0  14.0    500000  Free    0.0       Everyone   \n",
      "2   87510.0   8.7   5000000  Free    0.0       Everyone   \n",
      "3  215644.0  25.0  50000000  Free    0.0           Teen   \n",
      "4     967.0   2.8    100000  Free    0.0       Everyone   \n",
      "\n",
      "                      Genres Last Updated         Current Ver   Android Ver  \n",
      "0               Art & Design   2018-01-07               1.0.0  4.0.3 and up  \n",
      "1  Art & Design;Pretend Play   2018-01-15               2.0.0  4.0.3 and up  \n",
      "2               Art & Design   2018-08-01               1.2.4  4.0.3 and up  \n",
      "3               Art & Design   2018-06-08  Varies with device    4.2 and up  \n",
      "4    Art & Design;Creativity   2018-06-20                 1.1    4.4 and up  \n"
     ]
    }
   ],
   "source": [
    "import pandas as pd\n",
    "import numpy as np\n",
    "\n",
    "# Load dataset\n",
    "file_path = r\"E:\\NULLCLASS\\datasets\\Play Store Data.csv\"  # Update this if needed\n",
    "apps_df = pd.read_csv(file_path)\n",
    "\n",
    "# ==============================\n",
    "# 1️⃣ Convert Columns to Proper Data Types\n",
    "# ==============================\n",
    "\n",
    "# Convert 'Reviews' to integer\n",
    "apps_df[\"Reviews\"] = pd.to_numeric(apps_df[\"Reviews\"], errors=\"coerce\")\n",
    "\n",
    "# Process 'Installs' column (remove '+' and ',' and convert to integer)\n",
    "apps_df[\"Installs\"] = (\n",
    "    apps_df[\"Installs\"]\n",
    "    .astype(str)\n",
    "    .str.replace(\",\", \"\", regex=True)  # Remove commas\n",
    "    .str.replace(r\"\\+\", \"\", regex=True)  # Remove '+'\n",
    "    .replace(\"Free\", \"0\")  # Convert 'Free' to 0\n",
    ")\n",
    "\n",
    "# Convert 'Installs' to numeric and handle errors\n",
    "apps_df[\"Installs\"] = pd.to_numeric(apps_df[\"Installs\"], errors=\"coerce\").fillna(0).astype(int)\n",
    "\n",
    "# Process 'Price' column (remove '$' and handle errors)\n",
    "apps_df[\"Price\"] = (\n",
    "    apps_df[\"Price\"]\n",
    "    .astype(str)\n",
    "    .str.replace(\"$\", \"\", regex=False)  # Remove dollar sign\n",
    "    .replace(\"Everyone\", np.nan)  # Remove incorrect values\n",
    "    .replace(\"\", \"0\")  # Replace empty values with 0\n",
    ")\n",
    "\n",
    "# Remove rows where 'Price' is still non-numeric\n",
    "apps_df = apps_df[pd.to_numeric(apps_df[\"Price\"], errors=\"coerce\").notna()]\n",
    "\n",
    "# Convert 'Price' to float\n",
    "apps_df[\"Price\"] = apps_df[\"Price\"].astype(float)\n",
    "\n",
    "# ==============================\n",
    "# 2️⃣ Handle Missing Values\n",
    "# ==============================\n",
    "\n",
    "# Drop rows where key columns are missing\n",
    "apps_df.dropna(subset=[\"Category\", \"Reviews\", \"Rating\", \"Installs\", \"Type\", \"Size\", \"Price\"], inplace=True)\n",
    "\n",
    "# ==============================\n",
    "# 3️⃣ Convert 'Size' to Numeric (MB)\n",
    "# ==============================\n",
    "\n",
    "def convert_size(size):\n",
    "    \"\"\"Convert size values to MB\"\"\"\n",
    "    if isinstance(size, str):\n",
    "        if \"M\" in size:\n",
    "            return float(size.replace(\"M\", \"\"))\n",
    "        elif \"K\" in size:\n",
    "            return float(size.replace(\"K\", \"\")) / 1024  # Convert KB to MB\n",
    "    return np.nan  # Assign NaN if size is missing\n",
    "\n",
    "apps_df[\"Size\"] = apps_df[\"Size\"].apply(convert_size)\n",
    "\n",
    "# ==============================\n",
    "# 4️⃣ Convert 'Last Updated' to Date Format\n",
    "# ==============================\n",
    "\n",
    "apps_df[\"Last Updated\"] = pd.to_datetime(apps_df[\"Last Updated\"], errors=\"coerce\")\n",
    "apps_df.dropna(subset=[\"Last Updated\"], inplace=True)\n",
    "\n",
    "# ==============================\n",
    "# 5️⃣ Save the Cleaned Data\n",
    "# ==============================\n",
    "\n",
    "apps_df.to_csv(\"cleaned_data.csv\", index=False)\n",
    "print(\"✅ Cleaned dataset saved as 'cleaned_data.csv'!\")\n",
    "print(\"Final dataset shape:\", apps_df.shape)\n",
    "print(apps_df.head())\n"
   ]
  },
  {
   "cell_type": "code",
   "execution_count": 7,
   "metadata": {},
   "outputs": [
    {
     "name": "stdout",
     "output_type": "stream",
     "text": [
      "✅ Graph saved as 'installs_by_category.html'\n"
     ]
    }
   ],
   "source": [
    "import plotly.express as px\n",
    "\n",
    "# Load cleaned data\n",
    "df = pd.read_csv(\"cleaned_data.csv\")\n",
    "\n",
    "# Example: Generate a bar chart and save it as an HTML file\n",
    "fig = px.bar(df, x=\"Category\", y=\"Installs\", title=\"Installs by Category\")\n",
    "fig.write_html(\"installs_by_category.html\")\n",
    "print(\"✅ Graph saved as 'installs_by_category.html'\")\n"
   ]
  },
  {
   "cell_type": "code",
   "execution_count": null,
   "metadata": {},
   "outputs": [],
   "source": []
  }
 ],
 "metadata": {
  "kernelspec": {
   "display_name": "Python 3",
   "language": "python",
   "name": "python3"
  },
  "language_info": {
   "codemirror_mode": {
    "name": "ipython",
    "version": 3
   },
   "file_extension": ".py",
   "mimetype": "text/x-python",
   "name": "python",
   "nbconvert_exporter": "python",
   "pygments_lexer": "ipython3",
   "version": "3.13.1"
  }
 },
 "nbformat": 4,
 "nbformat_minor": 2
}
