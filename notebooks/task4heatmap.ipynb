{
 "cells": [
  {
   "cell_type": "code",
   "execution_count": 1,
   "metadata": {},
   "outputs": [
    {
     "name": "stdout",
     "output_type": "stream",
     "text": [
      " Heatmap is only visible between 2 PM - 4 PM IST.\n"
     ]
    }
   ],
   "source": [
    "import pandas as pd\n",
    "import seaborn as sns\n",
    "import matplotlib.pyplot as plt\n",
    "from datetime import datetime, timedelta\n",
    "import pytz\n",
    "\n",
    "df = pd.read_csv(r\"E:\\NULLCLASS\\datasets\\cleaned_data.csv\")\n",
    "\n",
    "# Convert 'Installs' to numeric (handling non-numeric values)\n",
    "df = df[df['Installs'].apply(lambda x: str(x).isdigit())]  # Remove invalid values\n",
    "df['Installs'] = df['Installs'].astype(int)\n",
    "\n",
    "# Convert 'Reviews' to numeric\n",
    "df['Reviews'] = pd.to_numeric(df['Reviews'], errors='coerce')\n",
    "\n",
    "# Convert 'Last Updated' to datetime format\n",
    "df['Last Updated'] = pd.to_datetime(df['Last Updated'], errors='coerce')\n",
    "\n",
    "# Filter: Apps updated within the last 1 year\n",
    "one_year_ago = datetime.now() - timedelta(days=365)\n",
    "df = df[df['Last Updated'] >= one_year_ago]\n",
    "\n",
    "# Filter: Apps with at least 100,000 installs and more than 1,000 reviews\n",
    "df = df[(df['Installs'] >= 100000) & (df['Reviews'] > 1000)]\n",
    "\n",
    "# Filter: Exclude specific Genres (A, F, E, G, I, K)\n",
    "df = df[~df['Genres'].str.startswith(('A', 'F', 'E', 'G', 'I', 'K'), na=False)]\n",
    "\n",
    "ist = pytz.timezone('Asia/Kolkata')\n",
    "current_time = datetime.now(ist).time()\n",
    "\n",
    "# Heatmap should only be displayed between 2 PM - 4 PM IST\n",
    "start_time = datetime.strptime(\"14:00:00\", \"%H:%M:%S\").time()\n",
    "end_time = datetime.strptime(\"16:00:00\", \"%H:%M:%S\").time()\n",
    "\n",
    "if start_time <= current_time <= end_time:\n",
    "    corr_matrix = df[['Installs', 'Rating', 'Reviews']].corr()\n",
    "\n",
    "    # Plot heatmap\n",
    "    plt.figure(figsize=(8, 6))\n",
    "    sns.heatmap(corr_matrix, annot=True, cmap='coolwarm', fmt=\".2f\", linewidths=0.5)\n",
    "\n",
    "\n",
    "    plt.title(\"Correlation Matrix: Installs, Ratings, and Reviews\")\n",
    "\n",
    "    plt.savefig(r\"E:\\NULLCLASS\\tasks\\Correlation_Heatmap.png\", dpi=300, bbox_inches=\"tight\")\n",
    "\n",
    "    plt.show()\n",
    "\n",
    "    print(\"Heatmap generated and saved as 'Correlation_Heatmap.png'\")\n",
    "else:\n",
    "    print(\" Heatmap is only visible between 2 PM - 4 PM IST.\")\n"
   ]
  },
  {
   "cell_type": "code",
   "execution_count": null,
   "metadata": {},
   "outputs": [],
   "source": []
  }
 ],
 "metadata": {
  "kernelspec": {
   "display_name": "Python 3",
   "language": "python",
   "name": "python3"
  },
  "language_info": {
   "codemirror_mode": {
    "name": "ipython",
    "version": 3
   },
   "file_extension": ".py",
   "mimetype": "text/x-python",
   "name": "python",
   "nbconvert_exporter": "python",
   "pygments_lexer": "ipython3",
   "version": "3.13.1"
  }
 },
 "nbformat": 4,
 "nbformat_minor": 2
}
