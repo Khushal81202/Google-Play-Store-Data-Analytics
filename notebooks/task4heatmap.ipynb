{
 "cells": [
  {
   "cell_type": "code",
   "execution_count": 9,
   "metadata": {},
   "outputs": [
    {
     "name": "stdout",
     "output_type": "stream",
     "text": [
      "Outside allowed time (2 PM - 4 PM IST). Heatmap generation skipped.\n"
     ]
    }
   ],
   "source": [
    import seaborn as sns
import matplotlib.pyplot as plt
import pandas as pd
from datetime import datetime
import pytz

file_path = r"E:\NULLCLASS\datasets\cleaned_data.csv"

try:
    df = pd.read_csv(file_path)
    print(" Dataset loaded successfully.")
except FileNotFoundError:
    print(f" Error: File not found at {file_path}")
    exit()

df['Last Updated'] = pd.to_datetime(df['Last Updated'], errors='coerce')

ist = pytz.timezone('Asia/Kolkata')
current_time = datetime.now(ist).hour


if 14 <= current_time < 16:
    print("Within allowed time frame (2 PM - 4 PM IST). Proceeding with heatmap generation...")

    print(f" No filtering applied on 'Last Updated' (earliest: {df['Last Updated'].min()}, latest: {df['Last Updated'].max()})")

    missing_before = df[['Installs', 'Reviews', 'Rating']].isna().sum()
    print(f" Missing values before handling:\n{missing_before}")

    df["Installs"] = pd.to_numeric(df["Installs"], errors="coerce")
    df["Reviews"] = pd.to_numeric(df["Reviews"], errors="coerce")
    df["Rating"] = pd.to_numeric(df["Rating"], errors="coerce")

    df.loc[:, "Rating"] = df["Rating"].fillna(df["Rating"].median())

    df = df.dropna(subset=["Installs", "Reviews", "Rating"])
    print(f" Data after handling NaN values: {df.shape}")

    df = df[(df["Installs"] >= 100000) & (df["Reviews"] > 1000)]
    df = df[~df["Genres"].str.startswith(("A", "F", "E", "G", "I", "K"))]
    print(f" Data after filtering installs & reviews: {df.shape}")

    if df.shape[0] > 1:
        plt.figure(figsize=(8, 6))
        sns.heatmap(df[['Installs', 'Rating', 'Reviews']].corr(), annot=True, cmap='coolwarm', fmt=".2f")

        save_path = r"E:\NULLCLASS\tasks\Correlation_Heatmap.png"
        plt.savefig(save_path)
        plt.close()

        print(f" Heatmap saved successfully as '{save_path}'")
    else:
        print(" No data left after filtering! Heatmap not generated.")
else:
    print(" Outside allowed time (2 PM - 4 PM IST). Heatmap generation skipped.")

   ]
  },
  {
   "cell_type": "code",
   "execution_count": null,
   "metadata": {},
   "outputs": [],
   "source": []
  }
 ],
 "metadata": {
  "kernelspec": {
   "display_name": "Python 3",
   "language": "python",
   "name": "python3"
  },
  "language_info": {
   "codemirror_mode": {
    "name": "ipython",
    "version": 3
   },
   "file_extension": ".py",
   "mimetype": "text/x-python",
   "name": "python",
   "nbconvert_exporter": "python",
   "pygments_lexer": "ipython3",
   "version": "3.13.1"
  }
 },
 "nbformat": 4,
 "nbformat_minor": 2
}
