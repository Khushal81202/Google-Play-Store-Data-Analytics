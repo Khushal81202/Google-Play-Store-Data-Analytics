{
 "cells": [
  {
   "cell_type": "code",
   "execution_count": 9,
   "metadata": {},
   "outputs": [
    {
     "name": "stdout",
     "output_type": "stream",
     "text": [
      "Outside allowed time (2 PM - 4 PM IST). Heatmap generation skipped.\n"
     ]
    }
   ],
   "source": [
    "import seaborn as sns\n",
    "import matplotlib.pyplot as plt\n",
    "import pandas as pd\n",
    "from datetime import datetime\n",
    "import pytz\n",
    "\n",
    "df = pd.read_csv(r\"E:\\NULLCLASS\\datasets\\cleaned_data.csv\")\n",
    "\n",
    "df['Last Updated'] = pd.to_datetime(df['Last Updated'], errors='coerce')\n",
    "\n",
    "ist = pytz.timezone('Asia/Kolkata')\n",
    "current_time = datetime.now(ist).hour\n",
    "\n",
    "if 14 <= current_time < 16:\n",
    "    df = df[df['Last Updated'] >= pd.Timestamp.now() - pd.DateOffset(years=1)]\n",
    "    df[\"Installs\"] = pd.to_numeric(df[\"Installs\"], errors=\"coerce\")\n",
    "    df[\"Reviews\"] = pd.to_numeric(df[\"Reviews\"], errors=\"coerce\")\n",
    "    df[\"Rating\"] = pd.to_numeric(df[\"Rating\"], errors=\"coerce\")\n",
    "    df = df.dropna(subset=[\"Installs\", \"Reviews\", \"Rating\"])\n",
    "    df = df[(df[\"Installs\"] >= 100000) & (df[\"Reviews\"] > 1000)]\n",
    "    df = df[~df[\"Genres\"].str.startswith((\"A\", \"F\", \"E\", \"G\", \"I\", \"K\"))]\n",
    "\n",
    "    if df.shape[0] > 0:\n",
    "        plt.figure(figsize=(8, 6))\n",
    "        sns.heatmap(df[['Installs', 'Rating', 'Reviews']].corr(), annot=True, cmap='coolwarm')\n",
    "        plt.savefig(r\"E:\\NULLCLASS\\tasks\\Correlation_Heatmap.png\")\n",
    "        plt.close()\n",
    "        print(\" Heatmap saved as 'Correlation_Heatmap.png'\")\n",
    "    else:\n",
    "        print(\" No data left after filtering!\")\n",
    "else:\n",
    "    print(\"Outside allowed time (2 PM - 4 PM IST). Heatmap generation skipped.\")\n"
   ]
  },
  {
   "cell_type": "code",
   "execution_count": null,
   "metadata": {},
   "outputs": [],
   "source": []
  }
 ],
 "metadata": {
  "kernelspec": {
   "display_name": "Python 3",
   "language": "python",
   "name": "python3"
  },
  "language_info": {
   "codemirror_mode": {
    "name": "ipython",
    "version": 3
   },
   "file_extension": ".py",
   "mimetype": "text/x-python",
   "name": "python",
   "nbconvert_exporter": "python",
   "pygments_lexer": "ipython3",
   "version": "3.13.1"
  }
 },
 "nbformat": 4,
 "nbformat_minor": 2
}
