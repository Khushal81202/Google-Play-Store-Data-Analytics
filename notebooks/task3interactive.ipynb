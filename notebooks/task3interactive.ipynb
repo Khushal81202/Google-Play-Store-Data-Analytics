{
 "cells": [
  {
   "cell_type": "code",
   "execution_count": 1,
   "metadata": {},
   "outputs": [
    {
     "name": "stdout",
     "output_type": "stream",
     "text": [
      " This graph is only available between 6 PM - 8 PM.\n"
     ]
    }
   ],
   "source": [
    "import pandas as pd\n",
    "import plotly.express as px\n",
    "from datetime import datetime\n",
    "import pytz\n",
    "\n",
    "df = pd.read_csv(r\"E:\\NULLCLASS\\datasets\\cleaned_data.csv\")\n",
    "\n",
    "# Group by Category and sum up installs\n",
    "top_categories = df.groupby(\"Category\")[\"Installs\"].sum().nlargest(5)\n",
    "\n",
    "ist = pytz.timezone(\"Asia/Kolkata\")\n",
    "current_time = datetime.now(ist).time()\n",
    "start_time = datetime.strptime(\"18:00:00\", \"%H:%M:%S\").time()  # 6 PM IST\n",
    "end_time = datetime.strptime(\"20:00:00\", \"%H:%M:%S\").time()    # 8 PM IST\n",
    "\n",
    "# Show graph only between 6 PM - 8 PM\n",
    "if start_time <= current_time <= end_time:\n",
    "    fig = px.bar(x=top_categories.index, y=top_categories.values, \n",
    "                 title=\"Top 5 Categories by Installs\",\n",
    "                 labels={\"x\": \"Category\", \"y\": \"Total Installs\"},\n",
    "                 color=top_categories.index)\n",
    "    fig.write_html(\"Category_Graph_1.html\")\n",
    "    print(\" Graph saved as 'Category_Graph_1.html'\")\n",
    "else:\n",
    "    print(\" This graph is only available between 6 PM - 8 PM.\")\n"
   ]
  },
  {
   "cell_type": "code",
   "execution_count": null,
   "metadata": {},
   "outputs": [],
   "source": []
  }
 ],
 "metadata": {
  "kernelspec": {
   "display_name": "Python 3",
   "language": "python",
   "name": "python3"
  },
  "language_info": {
   "codemirror_mode": {
    "name": "ipython",
    "version": 3
   },
   "file_extension": ".py",
   "mimetype": "text/x-python",
   "name": "python",
   "nbconvert_exporter": "python",
   "pygments_lexer": "ipython3",
   "version": "3.13.1"
  }
 },
 "nbformat": 4,
 "nbformat_minor": 2
}
