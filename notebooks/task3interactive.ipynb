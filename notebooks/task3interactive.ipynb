{
 "cells": [
  {
   "cell_type": "code",
   "execution_count": 10,
   "metadata": {},
   "outputs": [
    {
     "name": "stdout",
     "output_type": "stream",
     "text": [
      "Graph not generated.\n"
     ]
    }
   ],
   "source": [
    "import os\n",
    "import pandas as pd\n",
    "import plotly.express as px\n",
    "from datetime import datetime\n",
    "import pytz\n",
    "\n",
    "df = pd.read_csv(r\"E:\\NULLCLASS\\datasets\\cleaned_data.csv\")\n",
    "top_categories = df.groupby(\"Category\")[\"Installs\"].sum().nlargest(5)\n",
    "\n",
    "ist = pytz.timezone(\"Asia/Kolkata\")\n",
    "current_time = datetime.now(ist).time()\n",
    "start_time = datetime.strptime(\"18:00:00\", \"%H:%M:%S\").time()\n",
    "end_time = datetime.strptime(\"20:00:00\", \"%H:%M:%S\").time()\n",
    "\n",
    "save_path = r\"E:\\NULLCLASS\\tasks\\Interactive3.html\"\n",
    "\n",
    "if start_time <= current_time <= end_time:\n",
    "    fig = px.bar(x=top_categories.index, y=top_categories.values, title=\"Top 5 Categories by Installs\", labels={\"x\": \"Category\", \"y\": \"Total Installs\"}, color=top_categories.index)\n",
    "    fig.write_html(save_path)\n",
    "    print(f\"Graph saved at: {save_path}\")\n",
    "else:\n",
    "    with open(save_path, \"w\", encoding=\"utf-8\") as file:\n",
    "        file.write(\"<html><body><h1>This graph is only available between 6 PM - 8 PM IST.</h1></body></html>\")\n",
    "    print(\"Graph not generated.\")\n"
   ]
  },
  {
   "cell_type": "code",
   "execution_count": null,
   "metadata": {},
   "outputs": [],
   "source": []
  }
 ],
 "metadata": {
  "kernelspec": {
   "display_name": "Python 3",
   "language": "python",
   "name": "python3"
  },
  "language_info": {
   "codemirror_mode": {
    "name": "ipython",
    "version": 3
   },
   "file_extension": ".py",
   "mimetype": "text/x-python",
   "name": "python",
   "nbconvert_exporter": "python",
   "pygments_lexer": "ipython3",
   "version": "3.13.1"
  }
 },
 "nbformat": 4,
 "nbformat_minor": 2
}
