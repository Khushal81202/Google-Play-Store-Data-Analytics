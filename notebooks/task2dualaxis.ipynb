{
 "cells": [
  {
   "cell_type": "code",
   "execution_count": 1,
   "metadata": {},
   "outputs": [
    {
     "name": "stdout",
     "output_type": "stream",
     "text": [
      "Graph saved as 'Revenue_Graph_7.html'\n"
     ]
    }
   ],
   "source": [
    "import pandas as pd\n",
    "import plotly.graph_objects as go\n",
    "\n",
    "df = pd.read_csv(r\"E:\\NULLCLASS\\datasets\\cleaned_data.csv\")\n",
    "\n",
    "df[\"Revenue\"] = df[\"Price\"] * df[\"Installs\"]\n",
    "\n",
    "# Group by Category and Type, compute average installs & revenue\n",
    "category_summary = df.groupby([\"Category\", \"Type\"]).agg(\n",
    "    Avg_Installs=(\"Installs\", \"mean\"),\n",
    "    Avg_Revenue=(\"Revenue\", \"mean\")\n",
    ").reset_index()\n",
    "\n",
    "# Create dual-axis chart\n",
    "fig = go.Figure()\n",
    "\n",
    "# Bar chart for average installs\n",
    "fig.add_trace(go.Bar(x=category_summary[\"Category\"], y=category_summary[\"Avg_Installs\"], \n",
    "                     name=\"Average Installs\", marker_color=\"blue\"))\n",
    "\n",
    "# Line chart for average revenue\n",
    "fig.add_trace(go.Scatter(x=category_summary[\"Category\"], y=category_summary[\"Avg_Revenue\"], \n",
    "                         name=\"Average Revenue\", marker_color=\"red\", mode=\"lines+markers\"))\n",
    "\n",
    "fig.update_layout(title=\"Comparison of Average Installs and Revenue (Free vs Paid)\",\n",
    "                  xaxis_title=\"Category\", yaxis_title=\"Count\",\n",
    "                  legend_title=\"Metric\")\n",
    "\n",
    "fig.write_html(\"Revenue_Graph_7.html\")\n",
    "print(\"Graph saved as 'Revenue_Graph_7.html'\")\n"
   ]
  },
  {
   "cell_type": "code",
   "execution_count": null,
   "metadata": {},
   "outputs": [],
   "source": []
  }
 ],
 "metadata": {
  "kernelspec": {
   "display_name": "Python 3",
   "language": "python",
   "name": "python3"
  },
  "language_info": {
   "codemirror_mode": {
    "name": "ipython",
    "version": 3
   },
   "file_extension": ".py",
   "mimetype": "text/x-python",
   "name": "python",
   "nbconvert_exporter": "python",
   "pygments_lexer": "ipython3",
   "version": "3.13.1"
  }
 },
 "nbformat": 4,
 "nbformat_minor": 2
}
