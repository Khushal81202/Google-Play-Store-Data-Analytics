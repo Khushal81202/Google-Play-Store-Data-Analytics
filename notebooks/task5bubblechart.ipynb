{
 "cells": [
  {
   "cell_type": "code",
   "execution_count": 8,
   "metadata": {},
   "outputs": [
    {
     "name": "stdout",
     "output_type": "stream",
     "text": [
      "Bubble chart is not available right now.\n"
     ]
    }
   ],
   "source": [
    "import os\n",
    "import pandas as pd\n",
    "import plotly.express as px\n",
    "from datetime import datetime\n",
    "import pytz\n",
    "\n",
    "df = pd.read_csv(r\"E:\\NULLCLASS\\datasets\\cleaned_data.csv\")\n",
    "\n",
    "def convert_size(size):\n",
    "    if isinstance(size, str):\n",
    "        if 'M' in size:\n",
    "            return float(size.replace('M', ''))\n",
    "        elif 'K' in size:\n",
    "            return float(size.replace('K', '')) / 1024\n",
    "    return None  \n",
    "\n",
    "df['Size'] = df['Size'].apply(convert_size)\n",
    "df['Rating'] = pd.to_numeric(df['Rating'], errors='coerce')\n",
    "\n",
    "df = df[(df['Rating'] > 3.5) & (df['Category'] == \"GAME\") & (df['Installs'] > 50000)]\n",
    "\n",
    "ist = pytz.timezone(\"Asia/Kolkata\")\n",
    "current_time = datetime.now(ist).time()\n",
    "start_time = datetime.strptime(\"17:00:00\", \"%H:%M:%S\").time()\n",
    "end_time = datetime.strptime(\"19:00:00\", \"%H:%M:%S\").time()\n",
    "\n",
    "save_path = r\"E:\\NULLCLASS\\tasks\\Bubble_Chart.html\"\n",
    "\n",
    "if start_time <= current_time <= end_time:\n",
    "    fig = px.scatter(df, x=\"Size\", y=\"Rating\", size=\"Installs\", color=\"Category\",\n",
    "                     title=\"Bubble Chart: App Size vs Rating (Bubble Size = Installs)\",\n",
    "                     labels={\"Size\": \"App Size (MB)\", \"Rating\": \"Average Rating\"},\n",
    "                     hover_data=df.columns.tolist())\n",
    "\n",
    "    fig.write_html(save_path)\n",
    "    print(f\"Bubble Chart saved at: {save_path}\")\n",
    "\n",
    "else:\n",
    "    with open(save_path, \"w\", encoding=\"utf-8\") as file:\n",
    "        file.write(\"<html><body><h1>This graph is only available between 5 PM - 7 PM IST.</h1></body></html>\")\n",
    "    print(\"Bubble chart is not available right now.\")\n"
   ]
  },
  {
   "cell_type": "code",
   "execution_count": null,
   "metadata": {},
   "outputs": [],
   "source": []
  }
 ],
 "metadata": {
  "kernelspec": {
   "display_name": "Python 3",
   "language": "python",
   "name": "python3"
  },
  "language_info": {
   "codemirror_mode": {
    "name": "ipython",
    "version": 3
   },
   "file_extension": ".py",
   "mimetype": "text/x-python",
   "name": "python",
   "nbconvert_exporter": "python",
   "pygments_lexer": "ipython3",
   "version": "3.13.1"
  }
 },
 "nbformat": 4,
 "nbformat_minor": 2
}
