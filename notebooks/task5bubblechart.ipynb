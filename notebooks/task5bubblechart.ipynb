{
 "cells": [
  {
   "cell_type": "code",
   "execution_count": 1,
   "metadata": {},
   "outputs": [
    {
     "name": "stdout",
     "output_type": "stream",
     "text": [
      "Bubble chart is only visible between 5 PM - 7 PM IST.\n"
     ]
    }
   ],
   "source": [
    "import pandas as pd\n",
    "import plotly.express as px\n",
    "from datetime import datetime\n",
    "import pytz\n",
    "\n",
    "df = pd.read_csv(r\"E:\\NULLCLASS\\datasets\\cleaned_data.csv\")\n",
    "\n",
    "# Ensure 'Installs' column is numeric (convert non-numeric values)\n",
    "df = df[df['Installs'].apply(lambda x: str(x).isdigit())]  # Remove invalid values\n",
    "df['Installs'] = df['Installs'].astype(int)\n",
    "\n",
    "# Convert 'Size' column to numeric (handling 'Varies with device')\n",
    "def convert_size(size):\n",
    "    if isinstance(size, str):\n",
    "        if 'M' in size:\n",
    "            return float(size.replace('M', ''))\n",
    "        elif 'K' in size:\n",
    "            return float(size.replace('K', '')) / 1024  # Convert KB to MB\n",
    "    return None  # Assign NaN for 'Varies with device' and other invalid values\n",
    "\n",
    "df['Size'] = df['Size'].apply(convert_size)\n",
    "\n",
    "# Convert 'Rating' to numeric\n",
    "df['Rating'] = pd.to_numeric(df['Rating'], errors='coerce')\n",
    "\n",
    "# Filter: Apps with Rating > 3.5, Category = \"GAME\", Installs > 50,000\n",
    "df = df[(df['Rating'] > 3.5) & (df['Category'] == \"GAME\") & (df['Installs'] > 50000)]\n",
    "\n",
    "ist = pytz.timezone('Asia/Kolkata')\n",
    "current_time = datetime.now(ist).time()\n",
    "\n",
    "# Show bubble chart only between 5 PM - 7 PM IST\n",
    "start_time = datetime.strptime(\"17:00:00\", \"%H:%M:%S\").time()\n",
    "end_time = datetime.strptime(\"19:00:00\", \"%H:%M:%S\").time()\n",
    "\n",
    "if start_time <= current_time <= end_time:\n",
    "    # Create Bubble Chart\n",
    "    fig = px.scatter(\n",
    "        df,\n",
    "        x=\"Size\",\n",
    "        y=\"Rating\",\n",
    "        size=\"Installs\",\n",
    "        color=\"Category\",\n",
    "        title=\"Bubble Chart: App Size vs Rating (Bubble Size = Installs)\",\n",
    "        labels={\"Size\": \"App Size (MB)\", \"Rating\": \"Average Rating\"},\n",
    "        hover_data=[\"App\"],\n",
    "    )\n",
    "\n",
    "   \n",
    "    fig.write_html(r\"E:\\NULLCLASS\\tasks\\Bubble_Chart.html\")\n",
    "\n",
    "    print(\"Bubble Chart saved as 'Bubble_Chart.html'\")\n",
    "else:\n",
    "    print(\"Bubble chart is only visible between 5 PM - 7 PM IST.\")\n"
   ]
  },
  {
   "cell_type": "code",
   "execution_count": null,
   "metadata": {},
   "outputs": [],
   "source": []
  }
 ],
 "metadata": {
  "kernelspec": {
   "display_name": "Python 3",
   "language": "python",
   "name": "python3"
  },
  "language_info": {
   "codemirror_mode": {
    "name": "ipython",
    "version": 3
   },
   "file_extension": ".py",
   "mimetype": "text/x-python",
   "name": "python",
   "nbconvert_exporter": "python",
   "pygments_lexer": "ipython3",
   "version": "3.13.1"
  }
 },
 "nbformat": 4,
 "nbformat_minor": 2
}
