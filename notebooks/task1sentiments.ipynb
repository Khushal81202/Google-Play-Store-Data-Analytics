{
 "cells": [
  {
   "cell_type": "code",
   "execution_count": 1,
   "metadata": {},
   "outputs": [
    {
     "name": "stdout",
     "output_type": "stream",
     "text": [
      "✅ Sentiment graph saved as 'Rating_Graph_3.html'\n"
     ]
    }
   ],
   "source": [
    "import pandas as pd\n",
    "import plotly.express as px\n",
    "\n",
    "df = pd.read_csv(r\"E:\\NULLCLASS\\datasets\\cleaned_data.csv\")\n",
    "\n",
    "# Group by Category, Rating Group, and Sentiment\n",
    "sentiment_counts = df.groupby([\"Category\", \"Rating Group\", \"Sentiment\"]).size().unstack(fill_value=0)\n",
    "sentiment_counts = sentiment_counts.reset_index()  \n",
    "\n",
    "sentiment_counts_melted = sentiment_counts.melt(id_vars=[\"Category\", \"Rating Group\"], \n",
    "                                                var_name=\"Sentiment\", value_name=\"Count\")\n",
    "\n",
    "fig = px.bar(sentiment_counts_melted, \n",
    "             x=\"Category\", \n",
    "             y=\"Count\", \n",
    "             color=\"Sentiment\", \n",
    "             title=\"Sentiment Distribution by Rating Group\", \n",
    "             barmode=\"stack\")\n",
    "\n",
    "fig.write_html(\"Rating_Graph_3.html\")\n",
    "print(\"✅ Sentiment graph saved as 'Rating_Graph_3.html'\")\n"
   ]
  },
  {
   "cell_type": "code",
   "execution_count": null,
   "metadata": {},
   "outputs": [],
   "source": []
  }
 ],
 "metadata": {
  "kernelspec": {
   "display_name": "Python 3",
   "language": "python",
   "name": "python3"
  },
  "language_info": {
   "codemirror_mode": {
    "name": "ipython",
    "version": 3
   },
   "file_extension": ".py",
   "mimetype": "text/x-python",
   "name": "python",
   "nbconvert_exporter": "python",
   "pygments_lexer": "ipython3",
   "version": "3.13.1"
  }
 },
 "nbformat": 4,
 "nbformat_minor": 2
}
