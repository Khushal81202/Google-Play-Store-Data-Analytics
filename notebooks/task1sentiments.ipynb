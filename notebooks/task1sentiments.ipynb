{
 "cells": [
  {
   "cell_type": "code",
   "execution_count": 5,
   "metadata": {},
   "outputs": [
    {
     "name": "stdout",
     "output_type": "stream",
     "text": [
      "Sentiment graph saved as 'Sentiments1.html'\n"
     ]
    }
   ],
   "source": [
    "import pandas as pd\n",
    "import plotly.express as px\n",
    "\n",
    "df = pd.read_csv(r\"E:\\NULLCLASS\\datasets\\cleaned_data.csv\")\n",
    "df = df[df[\"Reviews\"] > 1000]\n",
    "\n",
    "sentiment_counts = df.groupby([\"Category\", \"Rating Group\", \"Sentiment\"]).size().unstack(fill_value=0).reset_index()\n",
    "sentiment_counts_melted = sentiment_counts.melt(id_vars=[\"Category\", \"Rating Group\"], var_name=\"Sentiment\", value_name=\"Count\")\n",
    "\n",
    "fig = px.bar(sentiment_counts_melted, x=\"Category\", y=\"Count\", color=\"Sentiment\", title=\"Sentiment Distribution by Rating Group\", barmode=\"stack\")\n",
    "fig.write_html(r\"E:\\NULLCLASS\\tasks\\Sentiments1.html\")\n",
    "\n",
    "print(\"Sentiment graph saved as 'Sentiments1.html'\")\n"
   ]
  },
  {
   "cell_type": "code",
   "execution_count": null,
   "metadata": {},
   "outputs": [],
   "source": []
  }
 ],
 "metadata": {
  "kernelspec": {
   "display_name": "Python 3",
   "language": "python",
   "name": "python3"
  },
  "language_info": {
   "codemirror_mode": {
    "name": "ipython",
    "version": 3
   },
   "file_extension": ".py",
   "mimetype": "text/x-python",
   "name": "python",
   "nbconvert_exporter": "python",
   "pygments_lexer": "ipython3",
   "version": "3.13.1"
  }
 },
 "nbformat": 4,
 "nbformat_minor": 2
}
