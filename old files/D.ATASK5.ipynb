{
 "cells": [
  {
   "cell_type": "code",
   "execution_count": 1,
   "metadata": {},
   "outputs": [
    {
     "name": "stdout",
     "output_type": "stream",
     "text": [
      "Bubble chart is only visible between 5 PM - 7 PM IST.\n"
     ]
    }
   ],
   "source": [
    "import pandas as pd\n",
    "import matplotlib.pyplot as plt\n",
    "import seaborn as sns\n",
    "import numpy as np\n",
    "from datetime import datetime\n",
    "import pytz\n",
    "\n",
    "# Load dataset\n",
    "df = pd.read_csv(r\"E:\\NULLCLASS\\Play Store Data.csv\")\n",
    "\n",
    "# Convert 'Installs' to numeric (remove commas and '+' signs)\n",
    "df = df[df['Installs'].str.contains(r'^\\d', na=False)]  # Remove 'Free' values\n",
    "df['Installs'] = df['Installs'].str.replace(r'[+,]', '', regex=True).astype(float)\n",
    "\n",
    "# Convert 'Size' to MB (handle 'Varies with device' case)\n",
    "def convert_size(size):\n",
    "    if 'M' in size:\n",
    "        return float(size.replace('M', ''))\n",
    "    elif 'K' in size:\n",
    "        return float(size.replace('K', '')) / 1024  # Convert KB to MB\n",
    "    else:\n",
    "        return np.nan  # Assign NaN for 'Varies with device'\n",
    "\n",
    "df['Size'] = df['Size'].apply(lambda x: convert_size(x) if isinstance(x, str) else np.nan)\n",
    "\n",
    "# Convert 'Rating' to numeric\n",
    "df['Rating'] = pd.to_numeric(df['Rating'], errors='coerce')\n",
    "\n",
    "# Filter: Rating > 3.5, Category = \"Games\", Installs > 50,000\n",
    "df = df[(df['Rating'] > 3.5) & (df['Category'] == \"GAME\") & (df['Installs'] > 50000)]\n",
    "\n",
    "# Get current time in IST\n",
    "ist = pytz.timezone('Asia/Kolkata')\n",
    "current_time = datetime.now(ist).time()\n",
    "\n",
    "# Show bubble chart only between 5 PM - 7 PM IST\n",
    "if current_time >= datetime.strptime(\"17:00:00\", \"%H:%M:%S\").time() and current_time <= datetime.strptime(\"19:00:00\", \"%H:%M:%S\").time():\n",
    "    plt.figure(figsize=(10, 6))\n",
    "\n",
    "    # Create Bubble Chart\n",
    "    sns.scatterplot(\n",
    "        x=df['Size'], \n",
    "        y=df['Rating'], \n",
    "        size=df['Installs'], \n",
    "        sizes=(20, 1000),  # Scale bubble sizes\n",
    "        alpha=0.6,\n",
    "        color=\"blue\"\n",
    "    )\n",
    "\n",
    "    plt.xlabel(\"App Size (MB)\")\n",
    "    plt.ylabel(\"Average Rating\")\n",
    "    plt.title(\"Bubble Chart: App Size vs Rating (Bubble Size = Installs)\")\n",
    "    plt.grid(True)\n",
    "    plt.show()\n",
    "else:\n",
    "    print(\"Bubble chart is only visible between 5 PM - 7 PM IST.\")\n"
   ]
  },
  {
   "cell_type": "code",
   "execution_count": null,
   "metadata": {},
   "outputs": [],
   "source": []
  }
 ],
 "metadata": {
  "kernelspec": {
   "display_name": "Python 3",
   "language": "python",
   "name": "python3"
  },
  "language_info": {
   "codemirror_mode": {
    "name": "ipython",
    "version": 3
   },
   "file_extension": ".py",
   "mimetype": "text/x-python",
   "name": "python",
   "nbconvert_exporter": "python",
   "pygments_lexer": "ipython3",
   "version": "3.13.1"
  }
 },
 "nbformat": 4,
 "nbformat_minor": 2
}
