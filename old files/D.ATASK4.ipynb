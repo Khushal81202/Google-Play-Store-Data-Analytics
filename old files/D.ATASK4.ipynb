{
 "cells": [
  {
   "cell_type": "code",
   "execution_count": 3,
   "metadata": {},
   "outputs": [
    {
     "name": "stdout",
     "output_type": "stream",
     "text": [
      "Heatmap is only visible between 2 PM - 4 PM IST.\n"
     ]
    }
   ],
   "source": [
    "import pandas as pd\n",
    "import seaborn as sns\n",
    "import matplotlib.pyplot as plt\n",
    "from datetime import datetime, timedelta\n",
    "import pytz\n",
    "\n",
    "# Load dataset\n",
    "df = pd.read_csv(r\"E:\\NULLCLASS\\Play Store Data.csv\")\n",
    "\n",
    "# Ensure 'Installs' column contains only numeric values\n",
    "df = df[df['Installs'].str.contains(r'^\\d', na=False)]  # Remove 'Free' values\n",
    "df['Installs'] = df['Installs'].str.replace(r'[+,]', '', regex=True).astype(float)\n",
    "\n",
    "# Convert 'Reviews' to numeric\n",
    "df['Reviews'] = pd.to_numeric(df['Reviews'], errors='coerce')\n",
    "\n",
    "# Convert 'Last Updated' to datetime format\n",
    "df['Last Updated'] = pd.to_datetime(df['Last Updated'], errors='coerce')\n",
    "\n",
    "# Filter: Only apps updated within the last year\n",
    "one_year_ago = datetime.now() - timedelta(days=365)\n",
    "df = df[df['Last Updated'] >= one_year_ago]\n",
    "\n",
    "# Filter: Apps with at least 100,000 installs and more than 1,000 reviews\n",
    "df = df[(df['Installs'] >= 100000) & (df['Reviews'] > 1000)]\n",
    "\n",
    "# Filter: Genres should NOT start with A, F, E, G, I, or K\n",
    "df = df[~df['Genres'].str.startswith(('A', 'F', 'E', 'G', 'I', 'K'), na=False)]\n",
    "\n",
    "# Get current time in IST\n",
    "ist = pytz.timezone('Asia/Kolkata')\n",
    "current_time = datetime.now(ist).time()\n",
    "\n",
    "# Heatmap should only be visible between 2 PM - 4 PM IST\n",
    "if current_time >= datetime.strptime(\"14:00:00\", \"%H:%M:%S\").time() and current_time <= datetime.strptime(\"16:00:00\", \"%H:%M:%S\").time():\n",
    "    # Compute correlation matrix\n",
    "    corr_matrix = df[['Installs', 'Rating', 'Reviews']].corr()\n",
    "\n",
    "    # Plot heatmap\n",
    "    plt.figure(figsize=(8, 6))\n",
    "    sns.heatmap(corr_matrix, annot=True, cmap='coolwarm', fmt=\".2f\", linewidths=0.5)\n",
    "    plt.title(\"Correlation Matrix: Installs, Ratings, and Reviews\")\n",
    "    plt.show()\n",
    "else:\n",
    "    print(\"Heatmap is only visible between 2 PM - 4 PM IST.\")\n"
   ]
  },
  {
   "cell_type": "code",
   "execution_count": null,
   "metadata": {},
   "outputs": [],
   "source": []
  }
 ],
 "metadata": {
  "kernelspec": {
   "display_name": "Python 3",
   "language": "python",
   "name": "python3"
  },
  "language_info": {
   "codemirror_mode": {
    "name": "ipython",
    "version": 3
   },
   "file_extension": ".py",
   "mimetype": "text/x-python",
   "name": "python",
   "nbconvert_exporter": "python",
   "pygments_lexer": "ipython3",
   "version": "3.13.1"
  }
 },
 "nbformat": 4,
 "nbformat_minor": 2
}
