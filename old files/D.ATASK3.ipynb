{
 "cells": [
  {
   "cell_type": "code",
   "execution_count": 2,
   "metadata": {},
   "outputs": [
    {
     "name": "stdout",
     "output_type": "stream",
     "text": [
      "The Choropleth map is only visible between 6 PM and 8 PM IST.\n"
     ]
    }
   ],
   "source": [
    "import pandas as pd\n",
    "import plotly.express as px\n",
    "import datetime\n",
    "\n",
    "# Load the dataset\n",
    "apps_df = pd.read_csv(r\"E:\\NULLCLASS\\Play Store Data.csv\")\n",
    "\n",
    "# Data Cleaning: Remove non-numeric installs\n",
    "apps_df = apps_df[apps_df['Installs'].str.contains(r'^\\d', regex=True, na=False)]\n",
    "apps_df['Installs'] = apps_df['Installs'].str.replace(',', '').str.replace('+', '', regex=False)\n",
    "apps_df['Installs'] = pd.to_numeric(apps_df['Installs'], errors='coerce')\n",
    "apps_df.dropna(subset=['Installs'], inplace=True)\n",
    "apps_df['Installs'] = apps_df['Installs'].astype(int)\n",
    "\n",
    "# Filter: Exclude categories starting with 'A', 'C', 'G', or 'S'\n",
    "apps_df = apps_df[~apps_df['Category'].str.startswith(('A', 'C', 'G', 'S'))]\n",
    "\n",
    "# Get top 5 app categories by total installs\n",
    "top_categories = apps_df.groupby('Category')['Installs'].sum().nlargest(5).index\n",
    "apps_df = apps_df[apps_df['Category'].isin(top_categories)]\n",
    "\n",
    "# Highlight categories with installs > 1M\n",
    "apps_df['Highlight'] = apps_df['Installs'].apply(lambda x: 'Highlighted' if x > 1_000_000 else 'Normal')\n",
    "\n",
    "# Check current time (IST)\n",
    "current_time = datetime.datetime.now().time()\n",
    "start_time = datetime.time(18, 0)  # 6 PM IST\n",
    "end_time = datetime.time(20, 0)    # 8 PM IST\n",
    "\n",
    "# Display chart only within 6 PM - 8 PM IST\n",
    "if start_time <= current_time <= end_time:\n",
    "    fig = px.choropleth(\n",
    "        apps_df,\n",
    "        locations=\"Category\",\n",
    "        locationmode=\"country names\",\n",
    "        color=\"Installs\",\n",
    "        hover_name=\"Category\",\n",
    "        title=\"Global Installs by Category\",\n",
    "        color_continuous_scale=\"blues\"\n",
    "    )\n",
    "    fig.show()\n",
    "else:\n",
    "    print(\"The Choropleth map is only visible between 6 PM and 8 PM IST.\")\n"
   ]
  },
  {
   "cell_type": "code",
   "execution_count": null,
   "metadata": {},
   "outputs": [],
   "source": []
  }
 ],
 "metadata": {
  "kernelspec": {
   "display_name": "Python 3",
   "language": "python",
   "name": "python3"
  },
  "language_info": {
   "codemirror_mode": {
    "name": "ipython",
    "version": 3
   },
   "file_extension": ".py",
   "mimetype": "text/x-python",
   "name": "python",
   "nbconvert_exporter": "python",
   "pygments_lexer": "ipython3",
   "version": "3.13.1"
  }
 },
 "nbformat": 4,
 "nbformat_minor": 2
}
